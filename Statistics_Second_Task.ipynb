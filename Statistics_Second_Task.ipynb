{
  "nbformat": 4,
  "nbformat_minor": 0,
  "metadata": {
    "colab": {
      "name": "Statistics_Second_Task.ipynb",
      "provenance": [],
      "collapsed_sections": [],
      "authorship_tag": "ABX9TyPW0Avg1dI6RfrfnRnJ0HnM",
      "include_colab_link": true
    },
    "kernelspec": {
      "name": "python3",
      "display_name": "Python 3"
    },
    "language_info": {
      "name": "python"
    }
  },
  "cells": [
    {
      "cell_type": "markdown",
      "metadata": {
        "id": "view-in-github",
        "colab_type": "text"
      },
      "source": [
        "<a href=\"https://colab.research.google.com/github/AhmedElbossily/3D-Voronoi-Diagram-generation-code-using-modified-MPS/blob/master/Statistics_Second_Task.ipynb\" target=\"_parent\"><img src=\"https://colab.research.google.com/assets/colab-badge.svg\" alt=\"Open In Colab\"/></a>"
      ]
    },
    {
      "cell_type": "markdown",
      "source": [
        "# Test if two samples are drawn from the same population distribution (use parametric and non-parametric tests where appropriate)"
      ],
      "metadata": {
        "id": "8OxocQF-e83V"
      }
    },
    {
      "cell_type": "markdown",
      "source": [
        "- In the following example, two samples with size (41) were randomly selected from a population.\n",
        "\n",
        "**Z Test**\n",
        "\n",
        "- The z test was performed with 5% significance to test the null hypothesis that there is no difference between two samples mean.\n",
        "- For 5% significace Z critical is -/+ 1.96 for two-tails.\n",
        "- Z  calculated was found within the Z critical interval.\n",
        "- Thus, Failed to reject the null hypothesis.\n",
        "\n",
        "**F Test**\n",
        "\n",
        "- The F test was performed with 5% significance to test the null hypothesis that there is no difference between two samples variance.\n",
        "- For 5% significace F critical is 1.875 for two-tails (alpha=2.5%).\n",
        "- F  calculated was found lower than the critical value.\n",
        "- Thus, Failed to reject the null hypothesis."
      ],
      "metadata": {
        "id": "gxvV60iPJ9x9"
      }
    },
    {
      "cell_type": "code",
      "source": [
        "import numpy as np\n",
        "from math import sqrt\n",
        "# Parameters\n",
        "seed_number=1\n",
        "population_size = 2000\n",
        "sample_1_size =41\n",
        "sample_2_size=41\n",
        "# make this example reproducible\n",
        "np.random.seed(seed_number)\n",
        "#generate sample of 2000 values that follow a normal distribution \n",
        "population = np.random.normal(loc=0, scale=1, size=population_size)\n",
        "# get the the two samples\n",
        "rd1 = np.random.choice(population, sample_1_size)\n",
        "rd2 = np.random.choice([i for i in population if i not in rd1], sample_2_size)\n",
        "########### Z test ##########\n",
        "print(\"Z TEST\")\n",
        "z= (rd1.mean()-rd2.mean())/sqrt((rd1.std()**2/sample_1_size)+(rd2.std()**2/sample_2_size))\n",
        "print(\"z calculated:\",z)\n",
        "if (z> -1.96 and z<1.96):\n",
        "  print(\"Failed to reject null hypothesis that there is no difference in two samples mean\")\n",
        "else:\n",
        "  print(\"Reject null hypothesis that there is no difference in two samples mean\")\n",
        "########### F test ##########\n",
        "print(\"\\nF TEST\")\n",
        "F_calculated = max(rd1.std(), rd2.std())**2/min(rd1.std(), rd2.std())**2\n",
        "print(\"F calculated: \", F_calculated)\n",
        "df1=max(sample_1_size,sample_2_size)-1\n",
        "df2=min(sample_2_size,sample_2_size)-1\n",
        "print(\"F critical: 1.875 From F table of alpha (0.05/2) and 40 df- two tailed\")\n",
        "if (F_calculated<1.875):\n",
        "  print(\"Failed to reject null hypothesis that there is no difference in two samples variance\")\n",
        "else:\n",
        "  print(\"Reject null hypothesis that there is no difference in two samples variance\")"
      ],
      "metadata": {
        "colab": {
          "base_uri": "https://localhost:8080/"
        },
        "id": "EqYbjvDQeKTD",
        "outputId": "7d144635-5327-4d5c-a0f0-48ed905dc706"
      },
      "execution_count": 106,
      "outputs": [
        {
          "output_type": "stream",
          "name": "stdout",
          "text": [
            "Z TEST\n",
            "z calculated: 0.40538351186444826\n",
            "Failed to reject null hypothesis that there is no difference in two samples mean\n",
            "\n",
            "F TEST\n",
            "F calculated:  1.040501292585794\n",
            "F critical: 1.875 From F table of alpha (0.05/2) and 40 df- two tailed\n",
            "Failed to reject null hypothesis that there is no difference in two samples variance\n"
          ]
        }
      ]
    },
    {
      "cell_type": "markdown",
      "source": [
        "# Test if two variables are statistically independent "
      ],
      "metadata": {
        "id": "UnIxDEjlfOJk"
      }
    },
    {
      "cell_type": "markdown",
      "source": [
        "**Using Chui Square test**"
      ],
      "metadata": {
        "id": "jvZ8f6dzYqmj"
      }
    },
    {
      "cell_type": "code",
      "source": [
        "import numpy as np\n",
        "from scipy.stats import chi2_contingency\n",
        "\n",
        "alpha = 0.05\n",
        "variables = np.array([[13,8], [5,11]])\n",
        "chi2_v, p, dof, ex = chi2_contingency(variables, correction=False)\n",
        "if (p < alpha):\n",
        "  print(\"Reject the null hypothesis that that the two variables are independent.\")\n",
        "else:\n",
        "  print(\"Failed to reject the null hypothesis that the two variables are independent\")"
      ],
      "metadata": {
        "colab": {
          "base_uri": "https://localhost:8080/"
        },
        "id": "vYKoZSN_H1fP",
        "outputId": "77b965d8-d077-42ae-fb2a-976996292922"
      },
      "execution_count": 107,
      "outputs": [
        {
          "output_type": "stream",
          "name": "stdout",
          "text": [
            "Failed to reject the null hypothesis that the two variables are independent\n"
          ]
        }
      ]
    },
    {
      "cell_type": "markdown",
      "source": [
        "# Demonstrate Bayes theorem by estimating the mean of a Binomial distribution (don't need to use any MCMC software)"
      ],
      "metadata": {
        "id": "To0sCvoufhyB"
      }
    },
    {
      "cell_type": "code",
      "source": [
        "from scipy.stats import binom\n",
        "import matplotlib.pyplot as plt\n",
        "# setting the values\n",
        "# of n and p\n",
        "n = 12\n",
        "p = 0.5\n",
        "# defining list of r values\n",
        "r_values = list(range(n + 1))\n",
        "# list of pmf values\n",
        "dist = [binom.pmf(r, n, p) for r in r_values ]\n",
        "# plotting the graph\n",
        "plt.bar(r_values, dist)\n",
        "plt.show()\n"
      ],
      "metadata": {
        "colab": {
          "base_uri": "https://localhost:8080/",
          "height": 265
        },
        "id": "sdMjtKUXPne6",
        "outputId": "0105bcf6-07e8-4d21-ccc3-71b46aead036"
      },
      "execution_count": 3,
      "outputs": [
        {
          "output_type": "display_data",
          "data": {
            "image/png": "[encoded data removed]",
            "text/plain": [
              "<Figure size 432x288 with 1 Axes>"
            ]
          },
          "metadata": {
            "needs_background": "light"
          }
        }
      ]
    },
    {
      "cell_type": "markdown",
      "source": [
        "# Code your own simple linear regression model, validate it with in-sample and out-of-sample metrics"
      ],
      "metadata": {
        "id": "N3hxv_lqfrMU"
      }
    },
    {
      "cell_type": "code",
      "source": [
        "# Linear Regression model\n",
        "import pandas as pd\n",
        "import numpy as np\n",
        "from math import sqrt\n",
        "from scipy.stats import t\n",
        "\n",
        "# splite Data \n",
        "def dataset_splitter(df):\n",
        "    df = df.iloc[np.random.permutation(len(df))]\n",
        "    total_values = len (df)\n",
        "    sample_size = round(total_values * 0.8)\n",
        "    train = df[:sample_size].reset_index(drop = True)\n",
        "    test = df[sample_size:].reset_index(drop = True)\n",
        "    assert len(train) + len(test) == len(df)\n",
        "    print(\"Test passed: number of total rows equal after splitting!\")\n",
        "    return train, test\n",
        "  \n",
        "# Calculate root mean squared error\n",
        "def rmse_metric(actual, predicted):\n",
        "\tsum_error = 0.0\n",
        "\tfor i in range(len(actual)):\n",
        "\t\tprediction_error = predicted[i] - actual[i]\n",
        "\t\tsum_error += (prediction_error ** 2)\n",
        "\tmean_error = sum_error / float(len(actual))\n",
        "\treturn sqrt(mean_error)\n",
        "  \n",
        "# Calculate covariance between x and y\n",
        "def covariance(x, mean_x, y, mean_y):\n",
        "\tcovar = 0.0\n",
        "\tfor i in range(len(x)):\n",
        "\t\tcovar += (x[i] - mean_x) * (y[i] - mean_y)\n",
        "\treturn covar\n",
        " \n",
        "# Calculate the variance of a list of numbers\n",
        "def variance(values, mean):\n",
        "\treturn sum([(x-mean)**2 for x in values])\n",
        " \n",
        "# Calculate coefficients\n",
        "def coefficients(dataset):\n",
        "\tx_mean, y_mean = dataset.mean()\n",
        "\tb1 = covariance(dataset[\"X\"], x_mean, dataset[\"Y\"], y_mean) / variance(dataset[\"X\"], x_mean)\n",
        "\tb0 = y_mean - b1 * x_mean\n",
        "\treturn [b0, b1]\n",
        "\n",
        "def validate(length, SE, mean, d_mean):\n",
        "  if(length<30):\n",
        "    print(\"Number of samples less than 30: Using t distribution table\")\n",
        "    Critical_value = t.ppf(0.95, length-1)\n",
        "    upper_limit = mean + Critical_value*SE\n",
        "    lower_limit = mean- Critical_value*SE\n",
        "    if((d_mean < upper_limit) and (d_mean >lower_limit)):\n",
        "      print(\"Model valide: Data mean inside 95% confidence interval of model\")\n",
        "    else:\n",
        "      print(\"Model Invalide: Data mean outside 95% confidence interval of model\")\n",
        "\n",
        "  else:\n",
        "    print(\"Number of samples more than 30: Using Z distribution table\")\n",
        "    upper_limit = mean+1.96*SE\n",
        "    lower_limit = mean-1.96*SE\n",
        "    if((d_mean < upper_limit) and (d_mean >lower_limit)):\n",
        "      print(\"Model valide: Data mean inside 95% confidence interval of model\")\n",
        "    else:\n",
        "      print(\"Model Invalide: Data mean outside 95% confidence interval of model\")\n",
        "\n",
        "np.random.seed(seed=1)\n",
        "# load and prepare data\n",
        "df = pd.read_csv(\"./Iris_Setosa.csv\")\n",
        "df[\"Y\"].hist()\n",
        "# Splite Data into training and testing\n",
        "d_train, d_test =dataset_splitter(df)\n",
        "# Get the Linear coefficients \n",
        "b0,b1 = coefficients(d_train)\n",
        "# Get the prediction from the training data\n",
        "pred_training = b0+b1*d_train[\"X\"]\n",
        "pred_training_SE = pred_training.std()/sqrt(len(pred_training))\n",
        "validate(len(pred_training), pred_training_SE, pred_training.mean(), d_train[\"Y\"].mean())\n",
        "# Get the prediction from The Testing data\n",
        "pred_testing = b0+b1*d_test[\"X\"]\n",
        "pred_testing_SE = pred_testing.std()/sqrt(len(pred_testing))\n",
        "validate(len(pred_testing), pred_testing_SE, pred_testing.mean(), d_test[\"Y\"].mean())\n",
        "\n",
        "# Calculate RMSE\n",
        "print(\"RMSE Training: \", rmse_metric(d_train[\"Y\"], pred_training))\n",
        "print(\"RMSE Testing: \", rmse_metric(d_test[\"Y\"], pred_testing))\n"
      ],
      "metadata": {
        "colab": {
          "base_uri": "https://localhost:8080/",
          "height": 391
        },
        "id": "azjyu9_LjaB2",
        "outputId": "4058012b-4a5b-4c00-9d3c-8e4371fe3e23"
      },
      "execution_count": 4,
      "outputs": [
        {
          "output_type": "stream",
          "name": "stdout",
          "text": [
            "Test passed: number of total rows equal after splitting!\n",
            "Number of samples more than 30: Using Z distribution table\n",
            "Model valide: Data mean inside 95% confidence interval of model\n",
            "Number of samples less than 30: Using t distribution table\n",
            "Model valide: Data mean inside 95% confidence interval of model\n",
            "RMSE Training:  0.2604871946963474\n",
            "RMSE Testing:  0.2384363057835347\n"
          ]
        },
        {
          "output_type": "display_data",
          "data": {
            "image/png": "[encoded data removed]",
            "text/plain": [
              "<Figure size 432x288 with 1 Axes>"
            ]
          },
          "metadata": {
            "needs_background": "light"
          }
        }
      ]
    },
    {
      "cell_type": "markdown",
      "source": [
        "# Perform a hypothesis test to test if a distribution population mean value is equal to 50 (make any additional assumptions required). Calculate the test statistic and p-value yourself. "
      ],
      "metadata": {
        "id": "QSXGNeCu-Aan"
      }
    },
    {
      "cell_type": "code",
      "source": [
        "from math import sqrt\n",
        "n=40 #number of samples\n",
        "H_mean =50 # hypothesis mean\n",
        "mean=45 # Sample mean\n",
        "std = 20 # Sample Standard diviation\n",
        "alpha=0.05 # Confidence level 95%\n",
        "\n",
        "SE = std/float(sqrt(n))\n",
        "z = (mean-H_mean)/SE\n",
        "print(\"z Value: \",z)\n",
        "# From the table for z =-1.5811\n",
        "p_value = 1.0 - 0.0571\n",
        "if (p_value>alpha):\n",
        "  print(\"Failed to reject the null hypothesis\")\n",
        "else:\n",
        "  print(\"Reject the null hypothesis\")\n",
        "  "
      ],
      "metadata": {
        "colab": {
          "base_uri": "https://localhost:8080/"
        },
        "id": "uhkfJ9pcxuN7",
        "outputId": "b06ddaae-5d6f-43d5-c072-d90ba9d99a10"
      },
      "execution_count": 5,
      "outputs": [
        {
          "output_type": "stream",
          "name": "stdout",
          "text": [
            "z Value:  -1.5811388300841898\n",
            "Failed to reject the null hypothesis\n"
          ]
        }
      ]
    }
  ]
}